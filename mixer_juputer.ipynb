{
 "cells": [
  {
   "cell_type": "code",
   "execution_count": 1,
   "metadata": {},
   "outputs": [],
   "source": [
    "%load_ext autoreload\n",
    "%autoreload 2\n",
    "import precimed\n",
    "import precimed.mixer\n",
    "import logging\n",
    "import numpy as np\n",
    "#logging.getLogger().setLevel(logging.DEBUG)\n"
   ]
  },
  {
   "cell_type": "code",
   "execution_count": 2,
   "metadata": {},
   "outputs": [],
   "source": [
    "libbgmg = precimed.mixer.LibBgmg('/home/oleksanf/github/mixer/src/build/lib/libbgmg.so')\n"
   ]
  },
  {
   "cell_type": "code",
   "execution_count": 2,
   "metadata": {},
   "outputs": [
    {
     "name": "stdout",
     "output_type": "stream",
     "text": [
      "num_snp: 8\n",
      "num_tag: 5\n",
      "defvec: [1 3 4 6 7]\n",
      "mafvec: [0.1 0.2 0.3 0.4 0.5 0.6 0.7 0.8]\n",
      "chrnumvec: [1 1 1 2 2 2 2 2]\n",
      "zvec1: [-1.5    1.5    2.5   -2.5    0.123]\n",
      "zvec2: [ 1.5   -1.5   -2.5    2.5    0.123]\n",
      "nvec1: [100. 200. 100. 200. 300.]\n",
      "nvec2: [1000. 2000. 1000. 2000. 3000.]\n",
      "weights: [0.2 0.2 0.2 0.3 0.3]\n"
     ]
    },
    {
     "data": {
      "text/plain": [
       "LibBgmg(_lib_name: /home/oleksanf/github/mixer/src/build/lib/libbgmg.so, _context_id: 0, num_snp: 8, num_tag: 5)"
      ]
     },
     "execution_count": 2,
     "metadata": {},
     "output_type": "execute_result"
    }
   ],
   "source": [
    "libbgmg = precimed.mixer.LibBgmg('/home/oleksanf/github/mixer/src/build/lib/libbgmg.so')\n",
    "libbgmg.init_log(\"/home/oleksanf/github/mixer/testlog5.log\")\n",
    "libbgmg.log_message('Test log message succeeded?')\n",
    "libbgmg.dispose()\n",
    "libbgmg.defvec=[0, 1, 0, 1, 1, 0, 1, 1]\n",
    "libbgmg.mafvec = [0.1, 0.2, 0.3, 0.4, 0.5, 0.6, 0.7, 0.8]\n",
    "libbgmg.chrnumvec = [1, 1, 1, 2, 2, 2, 2, 2]\n",
    "libbgmg.zvec1 = [-1.5, 1.5, 2.5, -2.5, 0.123]\n",
    "libbgmg.zvec2 = [1.5, -1.5, -2.5, 2.5, 0.123]\n",
    "libbgmg.nvec1 = [100, 200, 100, 200, 300]\n",
    "libbgmg.nvec2 = [1000, 2000, 1000, 2000, 3000]\n",
    "libbgmg.weights = [0.2, 0.2, 0.2, 0.3, 0.3]\n",
    "print('num_snp: {}'.format(libbgmg.num_snp))\n",
    "print('num_tag: {}'.format(libbgmg.num_tag))\n",
    "print('defvec: {}'.format(libbgmg.defvec))\n",
    "print('mafvec: {}'.format(libbgmg.mafvec))\n",
    "print('chrnumvec: {}'.format(libbgmg.chrnumvec))\n",
    "print('zvec1: {}'.format(libbgmg.zvec1))\n",
    "print('zvec2: {}'.format(libbgmg.zvec2))\n",
    "print('nvec1: {}'.format(libbgmg.nvec1))\n",
    "print('nvec2: {}'.format(libbgmg.nvec2))\n",
    "print('weights: {}'.format(libbgmg.weights))\n",
    "libbgmg"
   ]
  },
  {
   "cell_type": "code",
   "execution_count": 2,
   "metadata": {},
   "outputs": [
    {
     "name": "stdout",
     "output_type": "stream",
     "text": [
      "LibBgmg(_lib_name: /home/oleksanf/github/mixer/src/build/lib/libbgmg.so, _context_id: 0, num_snp: 9997231, num_tag: 1091550)\n"
     ]
    },
    {
     "data": {
      "text/plain": [
       "0"
      ]
     },
     "execution_count": 2,
     "metadata": {},
     "output_type": "execute_result"
    }
   ],
   "source": [
    "from importlib import reload\n",
    "import precimed.mixer\n",
    "reload(precimed.mixer)\n",
    "libbgmg = precimed.mixer.LibBgmg('/home/oleksanf/github/mixer/src/build/lib/libbgmg.so')\n",
    "\n",
    "libbgmg = precimed.mixer.LibBgmg('/home/oleksanf/github/mixer/src/build/lib/libbgmg.so')\n",
    "libbgmg.init_log(\"/home/oleksanf/github/mixer/testlog5.log\")\n",
    "libbgmg.log_message('Test log message succeeded?')\n",
    "libbgmg.dispose()\n",
    "\n",
    "bim_file = '/home/oleksanf/vmshare/data/LDSR/1000G_EUR_Phase3_plink/1000G.EUR.QC.@.bim'\n",
    "frq_file = '/home/oleksanf/vmshare/data/LDSR/1000G_EUR_Phase3_plink_freq/1000G.EUR.QC.@.frq'\n",
    "plink_ld_bin = '/home/oleksanf/vmshare/data/LDSR/1000G_EUR_Phase3_plink/1000G.EUR.QC.@.p05_SNPwind50k.ld.bin'\n",
    "chr_labels = list(range(1, 23))\n",
    "trait1_file = '/home/oleksanf/vmshare/data/MMIL/SUMSTAT/TMP/ldsr/PGC_SCZ_2014_EUR.sumstats.gz'\n",
    "trait2_file = '/home/oleksanf/vmshare/data/MMIL/SUMSTAT/TMP/ldsr/PGC_BIP_2016.sumstats.gz'\n",
    "exclude = ''; extract = ''\n",
    "libbgmg.init(bim_file, frq_file, chr_labels, trait1_file, trait2_file, exclude, extract);\n",
    "print(libbgmg)\n",
    "\n",
    "options=[('r2min', 0.05), ('kmax', 100), ('max_causals', 0.03*libbgmg.num_snp), ('num_components', 3), \n",
    "         ('cache_tag_r2sum', False), ('threads', 6), ('seed', None), ('z1max', None)]\n",
    "for opt, val in options: libbgmg.set_option(opt, val)\n",
    "\n",
    "for chr_label in chr_labels: \n",
    "    libbgmg.set_ld_r2_coo_from_file(plink_ld_bin.replace('@', str(chr_label)))\n",
    "    libbgmg.set_ld_r2_csr(chr_label);\n",
    "\n",
    "randprune_n = 64\n",
    "randprune_r2 = 0.1\n",
    "libbgmg.set_weights_randprune(randprune_n, randprune_r2);\n",
    "\n",
    "libbgmg.set_option('diag', 0)"
   ]
  },
  {
   "cell_type": "code",
   "execution_count": 5,
   "metadata": {},
   "outputs": [
    {
     "data": {
      "image/png": "[encoded data removed]",
      "text/plain": [
       "<Figure size 432x288 with 1 Axes>"
      ]
     },
     "metadata": {},
     "output_type": "display_data"
    }
   ],
   "source": [
    "%matplotlib inline\n",
    "import matplotlib.pyplot as plt\n",
    "plt.hist(libbgmg.weights,bins=50);"
   ]
  },
  {
   "cell_type": "code",
   "execution_count": 30,
   "metadata": {},
   "outputs": [
    {
     "data": {
      "image/png": "[encoded data removed]",
      "text/plain": [
       "<Figure size 432x288 with 1 Axes>"
      ]
     },
     "metadata": {},
     "output_type": "display_data"
    }
   ],
   "source": [
    "plt.hist(libbgmg.ld_tag_r2_sum, range=(0, 600), bins=50);"
   ]
  },
  {
   "cell_type": "code",
   "execution_count": 31,
   "metadata": {},
   "outputs": [
    {
     "data": {
      "image/png": "[encoded data removed]",
      "text/plain": [
       "<Figure size 432x288 with 1 Axes>"
      ]
     },
     "metadata": {},
     "output_type": "display_data"
    }
   ],
   "source": [
    "plt.hist(libbgmg.ld_tag_r4_sum, range=(0, 600), bins=50);"
   ]
  },
  {
   "cell_type": "code",
   "execution_count": 45,
   "metadata": {},
   "outputs": [
    {
     "name": "stdout",
     "output_type": "stream",
     "text": [
      "1 [(3450, 0.050812542)]\n",
      "2 [(1627, 0.067566946), (1635, 0.065918975)]\n",
      "4 [(2125, 0.05070573), (2128, 0.053543907), (4458, 0.05900664), (4465, 0.05159075)]\n",
      "1 [(975, 0.06755169)]\n",
      "1 [(975, 0.069092855)]\n",
      "1 [(975, 0.069092855)]\n",
      "12 [(1969, 0.05009537), (1971, 0.052048523), (3543, 0.051438164), (3579, 0.051819637), (3582, 0.051819637), (3585, 0.051544975), (3586, 0.0520943), (3589, 0.05168231), (3590, 0.05195697), (3591, 0.051422905), (3592, 0.052643627), (3594, 0.052109558)]\n"
     ]
    }
   ],
   "source": [
    "# it's possible to look at LD of a given SNP, and of the entire chromosome\n",
    "for i in range(1,100):\n",
    "    tag, r2 = libbgmg.get_ld_r2_snp(i)\n",
    "    if len(tag>0):\n",
    "        print(len(tag), list(zip(tag,r2)))\n",
    "snp, tag, r2 = libbgmg.get_ld_r2_chr(21)"
   ]
  },
  {
   "cell_type": "code",
   "execution_count": 3,
   "metadata": {},
   "outputs": [],
   "source": [
    "for i in range(1,100): libbgmg.calc_univariate_cost(1, 0.003, 1.2, 1e-4)"
   ]
  },
  {
   "cell_type": "code",
   "execution_count": 6,
   "metadata": {},
   "outputs": [
    {
     "data": {
      "image/png": "[encoded data removed]",
      "text/plain": [
       "<Figure size 432x288 with 1 Axes>"
      ]
     },
     "metadata": {},
     "output_type": "display_data"
    }
   ],
   "source": [
    "pdf=libbgmg.calc_univariate_pdf(1, 0.003, 1.2, 1e-4, np.arange(-3,3,0.25))\n",
    "plt.plot(pdf);"
   ]
  },
  {
   "cell_type": "code",
   "execution_count": 7,
   "metadata": {},
   "outputs": [
    {
     "data": {
      "text/plain": [
       "[<matplotlib.lines.Line2D at 0x7f3add861b38>]"
      ]
     },
     "execution_count": 7,
     "metadata": {},
     "output_type": "execute_result"
    },
    {
     "data": {
      "image/png": "[encoded data removed]",
      "text/plain": [
       "<Figure size 432x288 with 1 Axes>"
      ]
     },
     "metadata": {},
     "output_type": "display_data"
    }
   ],
   "source": [
    "svec=libbgmg.calc_univariate_power(1, 0.003, 1.2, 1e-4, 5.45, [1e1, 1e2, 1e3, 1e4, 1e5, 1e6, 1e7, 1e8])\n",
    "plt.plot(svec)"
   ]
  },
  {
   "cell_type": "code",
   "execution_count": 3,
   "metadata": {},
   "outputs": [
    {
     "ename": "RuntimeError",
     "evalue": "Disable calc_univariate_delta_posterior - for some reason it crashes in native c++ plugin",
     "output_type": "error",
     "traceback": [
      "\u001b[0;31m---------------------------------------------------------------------------\u001b[0m",
      "\u001b[0;31mRuntimeError\u001b[0m                              Traceback (most recent call last)",
      "\u001b[0;32m<ipython-input-3-67561ba9a389>\u001b[0m in \u001b[0;36m<module>\u001b[0;34m()\u001b[0m\n\u001b[0;32m----> 1\u001b[0;31m \u001b[0mc0\u001b[0m\u001b[0;34m,\u001b[0m\u001b[0mc1\u001b[0m\u001b[0;34m,\u001b[0m\u001b[0mc2\u001b[0m\u001b[0;34m=\u001b[0m\u001b[0mlibbgmg\u001b[0m\u001b[0;34m.\u001b[0m\u001b[0mcalc_univariate_delta_posterior\u001b[0m\u001b[0;34m(\u001b[0m\u001b[0;36m1\u001b[0m\u001b[0;34m,\u001b[0m \u001b[0;36m0.003\u001b[0m\u001b[0;34m,\u001b[0m \u001b[0;36m1.2\u001b[0m\u001b[0;34m,\u001b[0m \u001b[0;36m1e-4\u001b[0m\u001b[0;34m)\u001b[0m\u001b[0;34m\u001b[0m\u001b[0m\n\u001b[0m",
      "\u001b[0;32m~/github/mixer/precimed/mixer/libbgmg.py\u001b[0m in \u001b[0;36mcalc_univariate_delta_posterior\u001b[0;34m(self, trait, pi_vec, sig2_zero, sig2_beta)\u001b[0m\n\u001b[1;32m    236\u001b[0m \u001b[0;34m\u001b[0m\u001b[0m\n\u001b[1;32m    237\u001b[0m     \u001b[0;32mdef\u001b[0m \u001b[0mcalc_univariate_delta_posterior\u001b[0m\u001b[0;34m(\u001b[0m\u001b[0mself\u001b[0m\u001b[0;34m,\u001b[0m \u001b[0mtrait\u001b[0m\u001b[0;34m,\u001b[0m \u001b[0mpi_vec\u001b[0m\u001b[0;34m,\u001b[0m \u001b[0msig2_zero\u001b[0m\u001b[0;34m,\u001b[0m \u001b[0msig2_beta\u001b[0m\u001b[0;34m)\u001b[0m\u001b[0;34m:\u001b[0m\u001b[0;34m\u001b[0m\u001b[0m\n\u001b[0;32m--> 238\u001b[0;31m         \u001b[0;32mraise\u001b[0m\u001b[0;34m(\u001b[0m\u001b[0mRuntimeError\u001b[0m\u001b[0;34m(\u001b[0m\u001b[0;34m'Disable calc_univariate_delta_posterior - for some reason it crashes in native c++ plugin'\u001b[0m\u001b[0;34m)\u001b[0m\u001b[0;34m)\u001b[0m\u001b[0;34m\u001b[0m\u001b[0m\n\u001b[0m\u001b[1;32m    239\u001b[0m         \u001b[0mc0\u001b[0m \u001b[0;34m=\u001b[0m \u001b[0mnp\u001b[0m\u001b[0;34m.\u001b[0m\u001b[0mzeros\u001b[0m\u001b[0;34m(\u001b[0m\u001b[0mshape\u001b[0m\u001b[0;34m=\u001b[0m\u001b[0;34m(\u001b[0m\u001b[0mnp\u001b[0m\u001b[0;34m.\u001b[0m\u001b[0msize\u001b[0m\u001b[0;34m(\u001b[0m\u001b[0mself\u001b[0m\u001b[0;34m.\u001b[0m\u001b[0mnum_tag\u001b[0m\u001b[0;34m)\u001b[0m\u001b[0;34m,\u001b[0m\u001b[0;34m)\u001b[0m\u001b[0;34m,\u001b[0m \u001b[0mdtype\u001b[0m\u001b[0;34m=\u001b[0m\u001b[0mnp\u001b[0m\u001b[0;34m.\u001b[0m\u001b[0mfloat32\u001b[0m\u001b[0;34m)\u001b[0m\u001b[0;34m\u001b[0m\u001b[0m\n\u001b[1;32m    240\u001b[0m         \u001b[0mc1\u001b[0m \u001b[0;34m=\u001b[0m \u001b[0mnp\u001b[0m\u001b[0;34m.\u001b[0m\u001b[0mzeros\u001b[0m\u001b[0;34m(\u001b[0m\u001b[0mshape\u001b[0m\u001b[0;34m=\u001b[0m\u001b[0;34m(\u001b[0m\u001b[0mnp\u001b[0m\u001b[0;34m.\u001b[0m\u001b[0msize\u001b[0m\u001b[0;34m(\u001b[0m\u001b[0mself\u001b[0m\u001b[0;34m.\u001b[0m\u001b[0mnum_tag\u001b[0m\u001b[0;34m)\u001b[0m\u001b[0;34m,\u001b[0m\u001b[0;34m)\u001b[0m\u001b[0;34m,\u001b[0m \u001b[0mdtype\u001b[0m\u001b[0;34m=\u001b[0m\u001b[0mnp\u001b[0m\u001b[0;34m.\u001b[0m\u001b[0mfloat32\u001b[0m\u001b[0;34m)\u001b[0m\u001b[0;34m\u001b[0m\u001b[0m\n",
      "\u001b[0;31mRuntimeError\u001b[0m: Disable calc_univariate_delta_posterior - for some reason it crashes in native c++ plugin"
     ]
    }
   ],
   "source": [
    "c0,c1,c2=libbgmg.calc_univariate_delta_posterior(1, 0.003, 1.2, 1e-4)\n"
   ]
  },
  {
   "cell_type": "code",
   "execution_count": null,
   "metadata": {},
   "outputs": [],
   "source": [
    "out_file = '/home/oleksanf/github/mixer/results'\n",
    "lib_name = '/home/oleksanf/github/mixer/src/build/lib/libbgmg.so'\n",
    "log_file = out_file + '.log'\n",
    "bim_file = '/home/oleksanf/vmshare/data/LDSR/1000G_EUR_Phase3_plink/1000G.EUR.QC.@.bim'\n",
    "frq_file = '/home/oleksanf/vmshare/data/LDSR/1000G_EUR_Phase3_plink_freq/1000G.EUR.QC.@.frq'\n",
    "plink_ld_bin = '/home/oleksanf/vmshare/data/LDSR/1000G_EUR_Phase3_plink/1000G.EUR.QC.@.p05_SNPwind50k.ld.bin'\n",
    "chr_labels = list(range(1, 23))\n",
    "trait1_file = '/home/oleksanf/vmshare/data/MMIL/SUMSTAT/TMP/ldsr/PGC_SCZ_2014_EUR.sumstats.gz'\n",
    "trait2_file = '/home/oleksanf/vmshare/data/MMIL/SUMSTAT/TMP/ldsr/PGC_BIP_2016.sumstats.gz'\n",
    "exclude = ''; extract = ''\n",
    "    options=[('r2min', 0.05), ('kmax', 100), ('max_causals', 0.03*libbgmg.num_snp), ('num_components', 3), \n",
    "             ('cache_tag_r2sum', False), ('threads', 6), ('seed', 123), ('z1max', None), ('z2max', None)]\n",
    "randprune_n = 64\n",
    "randprune_r2 = 0.1\n",
    "\n",
    "def setub_libbgmg(lib_name, log_file, bim_file, frq_file, plink_ld_bin, chr_labels,\n",
    "                  trait1_file, trait2_file, exclude, extract,\n",
    "                  options, randprune_n, randprune_r2):\n",
    "\n",
    "    libbgmg = precimed.mixer.LibBgmg(lib_name)\n",
    "    libbgmg.init_log(log_file)\n",
    "    libbgmg.dispose()\n",
    "\n",
    "    libbgmg.init(bim_file, frq_file, chr_labels, trait1_file, trait2_file, exclude, extract);\n",
    "\n",
    "    for opt, val in options:\n",
    "        libbgmg.set_option(opt, val)\n",
    "\n",
    "    for chr_label in chr_labels: \n",
    "        libbgmg.set_ld_r2_coo_from_file(plink_ld_bin.replace('@', str(chr_label)))\n",
    "        libbgmg.set_ld_r2_csr(chr_label);\n",
    "\n",
    "    libbgmg.set_weights_randprune(randprune_n, randprune_r2);\n",
    "\n",
    "    libbgmg.set_option('diag', 0)\n",
    "    return libbgmg"
   ]
  },
  {
   "cell_type": "code",
   "execution_count": null,
   "metadata": {},
   "outputs": [],
   "source": [
    "def run_mixer(lib):\n"
   ]
  },
  {
   "cell_type": "code",
   "execution_count": 157,
   "metadata": {},
   "outputs": [
    {
     "name": "stdout",
     "output_type": "stream",
     "text": [
      "     fun: 4.930380657631324e-32\n",
      "    nfev: 9\n",
      "     nit: 5\n",
      " success: True\n",
      "       x: 1.0000000000000002\n",
      "<class 'scipy.optimize.optimize.OptimizeResult'>\n"
     ]
    }
   ],
   "source": [
    "x=scipy.optimize.minimize_scalar(lambda x:(x-1)*(x-1),  method='brent', bracket=[-10, 10])\n",
    "print(x)\n",
    "print(type(x))"
   ]
  },
  {
   "cell_type": "code",
   "execution_count": 236,
   "metadata": {},
   "outputs": [
    {
     "name": "stdout",
     "output_type": "stream",
     "text": [
      "143039.9667054704\n",
      "136117.94951642904\n",
      "279813.56074795313\n",
      "BivariateParams(_pi: [0.0012466754854858091, 0.0003354573743336747, 0.0028265604933306715], _sig2_beta: [5.288619957821589e-05, 5.231128193651721e-05], _rho_beta: 0.8945159908412117, _sig2_zero: [1.1755915719572747, 1.084084668490775], _rho_zero: 0.26921714348165393, rg: 0.7045218190412361)\n"
     ]
    }
   ],
   "source": [
    "from importlib import reload\n",
    "import precimed.mixer\n",
    "reload(precimed.mixer)\n",
    "from precimed.mixer.utils import *\n",
    "from precimed.mixer.utils import UnivariateParams\n",
    "from precimed.mixer.utils import BivariateParams\n",
    "from precimed.mixer.utils import _log_exp_converter\n",
    "from precimed.mixer.utils import _logit_logistic_converter\n",
    "from precimed.mixer.utils import _arctanh_tanh_converter\n",
    "from precimed.mixer.utils import UnivariateParametrization_constPI\n",
    "from precimed.mixer.utils import UnivariateParametrization_constH2_constSIG2ZERO\n",
    "from precimed.mixer.utils import UnivariateParametrization_constPI_constSIG2BETA\n",
    "from precimed.mixer.utils import UnivariateParametrization\n",
    "from precimed.mixer.utils import BivariateParametrization_constUNIVARIATE_constRG_constRHOZERO\n",
    "from precimed.mixer.utils import BivariateParametrization_constUNIVARIATE_constRG_constRHOZERO_boundedPI\n",
    "from precimed.mixer.utils import BivariateParametrization_constSIG2BETA_constSIG2ZERO_infPI_maxRG\n",
    "from precimed.mixer.utils import BivariateParametrization_constUNIVARIATE\n",
    "from precimed.mixer.utils import BivariateParametrization_constUNIVARIATE_natural_axis\n",
    "from precimed.mixer.utils import BivariateParametrization_constUNIVARIATE_constRHOBETA_constPI\n",
    "from precimed.mixer.utils import _hessian_robust\n",
    "from precimed.mixer.utils import _max_rg\n",
    "from precimed.mixer.utils import _calculate_univariate_uncertainty\n",
    "from precimed.mixer.utils import _calculate_bivariate_uncertainty\n",
    "\n",
    "print(UnivariateParams(0.001, 1e-4, 1.23).cost(libbgmg, 1))\n",
    "print(UnivariateParams(0.001, 1e-4, 1.23).cost(libbgmg, 2))\n",
    "print(BivariateParams([0.001, 0.002, 0.004], [1e-4, 3e-4], 0.8, [1.23, 1.06], 0.4).cost(libbgmg))\n",
    "\n",
    "#scalar_optimizer = scipy.optimize.fminbound\n",
    "params12_fitted, _ = BivariateParametrization_constUNIVARIATE_constRG_constRHOZERO_boundedPI(\n",
    "    const_params1=params[0],\n",
    "    const_params2=params[1],\n",
    "    const_rg=params12._rg(),\n",
    "    const_rho_zero=params12._rho_zero,\n",
    "    lib=libbgmg).fit(scalar_optimizer)\n",
    "print(params12_fitted)"
   ]
  },
  {
   "cell_type": "code",
   "execution_count": 222,
   "metadata": {},
   "outputs": [],
   "source": []
  },
  {
   "cell_type": "code",
   "execution_count": 85,
   "metadata": {},
   "outputs": [
    {
     "name": "stdout",
     "output_type": "stream",
     "text": [
      "UnivariateParams(_pi: 0.004073235978816481, _sig2_beta: 5.288619957821589e-05, _sig2_zero: 1.1755915719572747)\n",
      "UnivariateParams(_pi: 0.0031620178676643462, _sig2_beta: 5.231128193651721e-05, _sig2_zero: 1.084084668490775)\n",
      "BivariateParams(_pi: [0.0012449932750385182, 0.00033377516388638376, 0.0028282427037779625], _sig2_beta: [5.288619957821589e-05, 5.231128193651721e-05], _rho_beta: 0.8939839416846624, _sig2_zero: [1.1755915719572747, 1.084084668490775], _rho_zero: 0.26921714348165393, rg: 0.7045218190412361)\n",
      "\n",
      "Univariate (trait1):\n",
      "pi: pe=0.00407, mean=0.0041, median=0.0041, std=0.000453, ci=[0.00329, 0.00506]\n",
      "nc: pe=4.07e+04, mean=4.1e+04, median=4.1e+04, std=4.53e+03, ci=[3.29e+04, 5.06e+04]\n",
      "nc@p9: pe=9.2e+03, mean=9.26e+03, median=9.26e+03, std=1.02e+03, ci=[7.43e+03, 1.14e+04]\n",
      "sig2_beta: pe=5.29e-05, mean=5.32e-05, median=5.32e-05, std=5.34e-06, ci=[4.34e-05, 6.44e-05]\n",
      "sig2_zero: pe=1.18, mean=1.18, median=1.18, std=0.00889, ci=[1.16, 1.19]\n",
      "h2: pe=0.447, mean=0.447, median=0.447, std=0.0155, ci=[0.418, 0.478]\n",
      "\n",
      "Univariate (trait2):\n",
      "pi: pe=0.00316, mean=0.00321, median=0.00321, std=0.000588, ci=[0.00222, 0.00447]\n",
      "nc: pe=3.16e+04, mean=3.21e+04, median=3.21e+04, std=5.87e+03, ci=[2.22e+04, 4.47e+04]\n",
      "nc@p9: pe=7.14e+03, mean=7.25e+03, median=7.25e+03, std=1.33e+03, ci=[5.01e+03, 1.01e+04]\n",
      "sig2_beta: pe=5.23e-05, mean=5.32e-05, median=5.32e-05, std=8.94e-06, ci=[3.79e-05, 7.26e-05]\n",
      "sig2_zero: pe=1.08, mean=1.08, median=1.08, std=0.00764, ci=[1.07, 1.1]\n",
      "h2: pe=0.343, mean=0.344, median=0.344, std=0.0178, ci=[0.31, 0.38]\n",
      "\n",
      "Bivariate:\n",
      "sig2_zero_T1: pe=1.18, mean=1.18, median=1.18, std=0.00889, ci=[1.16, 1.19]\n",
      "sig2_zero_T2: pe=1.08, mean=1.08, median=1.08, std=0.00764, ci=[1.07, 1.1]\n",
      "sig2_beta_T1: pe=5.29e-05, mean=5.32e-05, median=5.32e-05, std=5.34e-06, ci=[4.34e-05, 6.44e-05]\n",
      "sig2_beta_T2: pe=5.23e-05, mean=5.32e-05, median=5.32e-05, std=8.94e-06, ci=[3.79e-05, 7.26e-05]\n",
      "h2_T1: pe=0.447, mean=0.447, median=0.447, std=0.0155, ci=[0.418, 0.478]\n",
      "h2_T2: pe=0.343, mean=0.344, median=0.344, std=0.0178, ci=[0.31, 0.38]\n",
      "rho_zero: pe=0.269, mean=0.269, median=0.269, std=0.00418, ci=[0.261, 0.277]\n",
      "rho_beta: pe=0.894, mean=0.874, median=0.874, std=0.0897, ci=[0.659, 0.991]\n",
      "rg: pe=0.705, mean=0.662, median=0.662, std=0.077, ci=[0.5, 0.793]\n",
      "pi1: pe=0.00124, mean=0.00133, median=0.00133, std=0.000679, ci=[0.000153, 0.00273]\n",
      "pi2: pe=0.000334, mean=0.000444, median=0.000444, std=0.00036, ci=[3.32e-05, 0.00135]\n",
      "pi12: pe=0.00283, mean=0.00276, median=0.00276, std=0.000538, ci=[0.00176, 0.00384]\n",
      "pi1u: pe=0.00407, mean=0.0041, median=0.0041, std=0.000453, ci=[0.00329, 0.00506]\n",
      "pi2u: pe=0.00316, mean=0.00321, median=0.00321, std=0.000588, ci=[0.00222, 0.00447]\n",
      "nc1: pe=1.24e+04, mean=1.33e+04, median=1.33e+04, std=6.79e+03, ci=[1.53e+03, 2.73e+04]\n",
      "nc2: pe=3.34e+03, mean=4.44e+03, median=4.44e+03, std=3.6e+03, ci=[332, 1.35e+04]\n",
      "nc12: pe=2.83e+04, mean=2.76e+04, median=2.76e+04, std=5.38e+03, ci=[1.76e+04, 3.84e+04]\n",
      "nc1u: pe=4.07e+04, mean=4.1e+04, median=4.1e+04, std=4.53e+03, ci=[3.29e+04, 5.06e+04]\n",
      "nc2u: pe=3.16e+04, mean=3.21e+04, median=3.21e+04, std=5.87e+03, ci=[2.22e+04, 4.47e+04]\n",
      "nc1@p9: pe=2.81e+03, mean=3.01e+03, median=3.01e+03, std=1.53e+03, ci=[347, 6.16e+03]\n",
      "nc2@p9: pe=754, mean=1e+03, median=1e+03, std=813, ci=[75, 3.05e+03]\n",
      "nc12@p9: pe=6.39e+03, mean=6.25e+03, median=6.25e+03, std=1.22e+03, ci=[3.98e+03, 8.67e+03]\n",
      "nc1u@p9: pe=9.2e+03, mean=9.26e+03, median=9.26e+03, std=1.02e+03, ci=[7.43e+03, 1.14e+04]\n",
      "nc2u@p9: pe=7.14e+03, mean=7.25e+03, median=7.25e+03, std=1.33e+03, ci=[5.01e+03, 1.01e+04]\n",
      "totalpi: pe=0.00441, mean=0.00454, median=0.00454, std=0.000547, ci=[0.00359, 0.00576]\n",
      "totalnc: pe=4.41e+04, mean=4.54e+04, median=4.54e+04, std=5.46e+03, ci=[3.59e+04, 5.75e+04]\n",
      "totalnc@p9: pe=9.96e+03, mean=1.03e+04, median=1.03e+04, std=1.24e+03, ci=[8.11e+03, 1.3e+04]\n",
      "pi1_over_totalpi: pe=0.283, mean=0.288, median=0.288, std=0.131, ci=[0.0366, 0.528]\n",
      "pi2_over_totalpi: pe=0.0757, mean=0.094, median=0.094, std=0.0682, ci=[0.00777, 0.262]\n",
      "pi12_over_totalpi: pe=0.642, mean=0.618, median=0.618, std=0.141, ci=[0.352, 0.894]\n",
      "pi1_over_pi1u: pe=0.306, mean=0.318, median=0.318, std=0.145, ci=[0.0408, 0.591]\n",
      "pi2_over_pi2u: pe=0.106, mean=0.135, median=0.135, std=0.0973, ci=[0.011, 0.376]\n",
      "pi12_over_pi1u: pe=0.694, mean=0.682, median=0.682, std=0.145, ci=[0.409, 0.959]\n",
      "pi12_over_pi2u: pe=0.894, mean=0.865, median=0.865, std=0.0973, ci=[0.624, 0.989]\n",
      "pi1u_over_pi2u: pe=1.29, mean=1.32, median=1.32, std=0.283, ci=[0.854, 1.96]\n",
      "pi2u_over_pi1u: pe=0.776, mean=0.793, median=0.793, std=0.17, ci=[0.511, 1.17]\n"
     ]
    }
   ],
   "source": [
    "import scipy.optimize\n",
    "\n",
    "libbgmg.set_option('fast_cost', 1);\n",
    "    \n",
    "optimizer = lambda func, x0: scipy.optimize.minimize(func, x0, method='Nelder-Mead')\n",
    "\n",
    "params = []\n",
    "\n",
    "for trait in [1, 2]:\n",
    "    params0, details = UnivariateParametrization_constPI(1.0, 1.5, 1e-4, libbgmg, trait=trait).fit(optimizer)\n",
    "    #print(params0)\n",
    "\n",
    "    params1, details = UnivariateParametrization_constH2_constSIG2ZERO(0.01, params0, libbgmg, trait=trait).fit(optimizer)\n",
    "    #print(params1)\n",
    "\n",
    "    params2, details = UnivariateParametrization_constPI_constSIG2BETA(1.0, params1, libbgmg, trait=trait).fit(optimizer)\n",
    "    #print(params2)\n",
    "\n",
    "    params3, details = UnivariateParametrization(params2, libbgmg, trait=trait).fit(optimizer)\n",
    "    print(params3)\n",
    "    \n",
    "    params.append(params3)\n",
    "\n",
    "alpha = 0.05\n",
    "totalhet = 2.0 * np.dot(libbgmg.mafvec, 1.0 - libbgmg.mafvec) \n",
    "num_samples = 10000\n",
    "\n",
    "# That's the most appropriate initialization for the bivariate model\n",
    "# BivariateParametrization_constSIG2BETA_constSIG2ZERO_infPI_maxRG - not used\n",
    "# BivariateParametrization_constUNIVARIATE_constRG_constRHOZERO    - used to fit the full model\n",
    "zcorr = np.corrcoef(libbgmg.zvec1, libbgmg.zvec2)[0, 1]\n",
    "params12, details = BivariateParametrization_constUNIVARIATE(\n",
    "    const_params1=params[0],\n",
    "    const_params2=params[1],\n",
    "    init_pi12=min(params[0]._pi, params[1]._pi)*0.1,\n",
    "    init_rho_beta=zcorr,\n",
    "    init_rho_zero=zcorr,\n",
    "    lib=libbgmg).fit(optimizer)\n",
    "print(params12)\n",
    "\n",
    "ci1, ci_sample1 = _calculate_univariate_uncertainty(UnivariateParametrization(params[0], libbgmg, trait=1), alpha, totalhet, libbgmg.num_snp, num_samples)\n",
    "ci2, ci_sample2 = _calculate_univariate_uncertainty(UnivariateParametrization(params[1], libbgmg, trait=2), alpha, totalhet, libbgmg.num_snp, num_samples)\n",
    "ci12, ci_sample12 = _calculate_bivariate_uncertainty(BivariateParametrization_constUNIVARIATE(\n",
    "    const_params1=params[0],\n",
    "    const_params2=params[1],\n",
    "    init_pi12=params12._pi[2],\n",
    "    init_rho_beta=params12._rho_beta,\n",
    "    init_rho_zero=params12._rho_zero,\n",
    "    lib=libbgmg), [ci_sample1, ci_sample2], alpha, totalhet, libbgmg.num_snp, num_samples)\n",
    "\n",
    "print('\\nUnivariate (trait1):')\n",
    "for k, v in ci1.items():\n",
    "        print('{}: pe={:.3g}, mean={:.3g}, median={:.3g}, std={:.3g}, ci=[{:.3g}, {:.3g}]'.format(k, v['point_estimate'], v['mean'], v['median'], v['std'], v['lower'], v['upper']))\n",
    "print('\\nUnivariate (trait2):')\n",
    "for k, v in ci2.items():\n",
    "        print('{}: pe={:.3g}, mean={:.3g}, median={:.3g}, std={:.3g}, ci=[{:.3g}, {:.3g}]'.format(k, v['point_estimate'], v['mean'], v['median'], v['std'], v['lower'], v['upper']))\n",
    "print('\\nBivariate:')\n",
    "for k, v in ci12.items():\n",
    "        print('{}: pe={:.3g}, mean={:.3g}, median={:.3g}, std={:.3g}, ci=[{:.3g}, {:.3g}]'.format(k, v['point_estimate'], v['mean'], v['median'], v['std'], v['lower'], v['upper']))"
   ]
  },
  {
   "cell_type": "code",
   "execution_count": 144,
   "metadata": {},
   "outputs": [
    {
     "name": "stdout",
     "output_type": "stream",
     "text": [
      "BivariateParams(_pi: [0.0012449932750385182, 0.00033377516388638376, 0.0028282427037779625], _sig2_beta: [5.288619957821589e-05, 5.231128193651721e-05], _rho_beta: 0.8939839416846624, _sig2_zero: [1.1755915719572747, 1.084084668490775], _rho_zero: 0.26921714348165393, rg: 0.7045218190412361)\n"
     ]
    }
   ],
   "source": [
    "# That's the most appropriate initialization for the bivariate model\n",
    "# BivariateParametrization_constSIG2BETA_constSIG2ZERO_infPI_maxRG - not used\n",
    "# BivariateParametrization_constUNIVARIATE_constRG_constRHOZERO    - used to fit the full model\n",
    "zcorr = np.corrcoef(libbgmg.zvec1, libbgmg.zvec2)[0, 1]\n",
    "params12, details = BivariateParametrization_constUNIVARIATE(\n",
    "    const_params1=params[0],\n",
    "    const_params2=params[1],\n",
    "    init_pi12=min(params[0]._pi, params[1]._pi)*0.1,\n",
    "    init_rho_beta=zcorr,\n",
    "    init_rho_zero=zcorr,\n",
    "    lib=libbgmg).fit(optimizer)\n",
    "print(params12)"
   ]
  },
  {
   "cell_type": "code",
   "execution_count": 18,
   "metadata": {},
   "outputs": [
    {
     "name": "stdout",
     "output_type": "stream",
     "text": [
      "BivariateParams(_pi: [0, 0, 1], _sig2_beta: [5.288619957821589e-05, 5.231128193651721e-05], _rho_beta: 0.8810739768325555, _sig2_zero: [1.1755915719572747, 1.084084668490775], _rho_zero: 0.8528486201057031, rg: 0.8810739768325555)\n",
      "BivariateParams(_pi: [0.0015524944994159688, 0.0006412763882638344, 0.002520741479400512], _sig2_beta: [5.288619957821589e-05, 5.231128193651721e-05], _rho_beta: 1.0, _sig2_zero: [1.1755915719572747, 1.084084668490775], _rho_zero: 0.27, rg: 0.7023868342220096)\n",
      "BivariateParams(_pi: [0.0015403841166866214, 0.0006291660055344869, 0.0025328518621298593], _sig2_beta: [5.288619957821589e-05, 5.231128193651721e-05], _rho_beta: 0.9999999995949107, _sig2_zero: [1.1755915719572747, 1.084084668490775], _rho_zero: 0.2690626563807834, rg: 0.7057613066680437)\n",
      "BivariateParams(_pi: [0.0015403841166866214, 0.0006291660055344869, 0.0025328518621298593], _sig2_beta: [5.288619957821589e-05, 5.231128193651721e-05], _rho_beta: 0.9999999995949107, _sig2_zero: [1.1755915719572747, 1.084084668490775], _rho_zero: 0.26899243023364927, rg: 0.7057613066680437)\n"
     ]
    }
   ],
   "source": [
    "params12, details = BivariateParametrization_constSIG2BETA_constSIG2ZERO_infPI_maxRG(\n",
    "    const_sig2_beta=[p._sig2_beta for p in params],\n",
    "    const_sig2_zero=[p._sig2_zero for p in params],\n",
    "    max_rg=_max_rg(params[0]._pi, params[1]._pi),\n",
    "    init_rho_beta=0.5, init_rho_zero=0.1, lib=libbgmg).fit(optimizer)\n",
    "print(params12)\n",
    "\n",
    "params12, details = BivariateParametrization_constUNIVARIATE_constRG_constRHOZERO(\n",
    "    const_params1=params[0],\n",
    "    const_params2=params[1],\n",
    "    const_rg=params12._rho_beta,\n",
    "    const_rho_zero=params12._rho_zero,\n",
    "    init_pi12=min(params[0]._pi, params[1]._pi)*0.95,\n",
    "    lib=libbgmg).fit(optimizer)\n",
    "print(params12)\n",
    "\n",
    "params12, details = BivariateParametrization_constUNIVARIATE(\n",
    "    const_params1=params[0],\n",
    "    const_params2=params[1],\n",
    "    init_pi12=min(params[0]._pi, params[1]._pi)*0.5,\n",
    "    init_rho_beta=0,\n",
    "    init_rho_zero=0,\n",
    "    lib=libbgmg).fit(optimizer)\n",
    "print(params12)\n",
    "\n",
    "params12, details = BivariateParametrization_constUNIVARIATE_constRHOBETA_constPI(\n",
    "    const_params1=params[0],\n",
    "    const_params2=params[1],\n",
    "    const_pi12=params12._pi[2],\n",
    "    const_rho_beta=params12._rho_beta,\n",
    "    init_rho_zero=0,\n",
    "    lib=libbgmg).fit(optimizer)\n",
    "print(params12)"
   ]
  },
  {
   "cell_type": "code",
   "execution_count": 239,
   "metadata": {},
   "outputs": [
    {
     "name": "stdout",
     "output_type": "stream",
     "text": [
      "BivariateParams(_pi: [0.0012389994058291652, 0.0003277812946770307, 0.0028342365729873155], _sig2_beta: [5.288619957821589e-05, 5.231128193651721e-05], _rho_beta: 0.8928580429674069, _sig2_zero: [1.1755915719572747, 1.084084668490775], _rho_zero: 0.26906143314603836, rg: 0.7051257384792755)\n"
     ]
    }
   ],
   "source": [
    "params12, details = BivariateParametrization_constUNIVARIATE_natural_axis(\n",
    "    const_params1=params[0],\n",
    "    const_params2=params[1],\n",
    "    init_pi12=min(params[0]._pi, params[1]._pi)*0.5,\n",
    "    init_rho_beta=0,\n",
    "    init_rho_zero=0,\n",
    "    lib=libbgmg).fit(optimizer)\n",
    "print(params12)"
   ]
  },
  {
   "cell_type": "code",
   "execution_count": null,
   "metadata": {},
   "outputs": [],
   "source": []
  }
 ],
 "metadata": {
  "kernelspec": {
   "display_name": "Python 3",
   "language": "python",
   "name": "python3"
  },
  "language_info": {
   "codemirror_mode": {
    "name": "ipython",
    "version": 3
   },
   "file_extension": ".py",
   "mimetype": "text/x-python",
   "name": "python",
   "nbconvert_exporter": "python",
   "pygments_lexer": "ipython3",
   "version": "3.6.5"
  }
 },
 "nbformat": 4,
 "nbformat_minor": 2
}
